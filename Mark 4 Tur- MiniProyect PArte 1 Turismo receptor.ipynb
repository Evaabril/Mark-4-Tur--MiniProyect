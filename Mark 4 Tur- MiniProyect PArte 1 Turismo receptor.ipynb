{
 "cells": [
  {
   "cell_type": "code",
   "execution_count": null,
   "id": "6a9cee4a-8ec5-462a-bc3f-14fcdaef33c8",
   "metadata": {},
   "outputs": [],
   "source": [
    "import pandas as pd"
   ]
  },
  {
   "cell_type": "code",
   "execution_count": null,
   "id": "9201ede7-eecd-4c8c-9ce3-2a87b98f2e6f",
   "metadata": {},
   "outputs": [],
   "source": [
    "evol_tur_df = pd.read_pickle('Evol_tur_no_resi.pkl') # Tabla extraida mediante web scraping de wikipedia\n",
    "evol_tur_df"
   ]
  },
  {
   "cell_type": "code",
   "execution_count": null,
   "id": "a0bbea83-2622-40f8-a9a3-9ac2363a29ab",
   "metadata": {},
   "outputs": [],
   "source": [
    "receptor_df = pd.read_pickle('receptor.pkl')"
   ]
  },
  {
   "cell_type": "code",
   "execution_count": null,
   "id": "cc2a0d75-6c9b-4a0a-b5db-271bb2f3a0a8",
   "metadata": {},
   "outputs": [],
   "source": [
    "receptor_df"
   ]
  },
  {
   "cell_type": "code",
   "execution_count": null,
   "id": "df40ede1-005e-4635-b523-a9e70f2b5e5e",
   "metadata": {},
   "outputs": [],
   "source": [
    "receptor_total_nacional_df = pd.read_pickle('receptor_total_nacional_df.pkl')\n",
    "receptor_total_nacional_df"
   ]
  },
  {
   "cell_type": "markdown",
   "id": "25a8c42c-5a04-4cf2-8e2a-85aa09332055",
   "metadata": {},
   "source": [
    "# 2021"
   ]
  },
  {
   "cell_type": "code",
   "execution_count": null,
   "id": "817bb648-40b1-4ef3-ad9c-ebf62aaaaab4",
   "metadata": {},
   "outputs": [],
   "source": [
    "receptor_2021 = pd.read_pickle('receptor_2021.pkl')"
   ]
  },
  {
   "cell_type": "code",
   "execution_count": null,
   "id": "8f890421-4a89-49e4-bd26-9a55531e5790",
   "metadata": {},
   "outputs": [],
   "source": [
    "receptor_2021.columns"
   ]
  },
  {
   "cell_type": "code",
   "execution_count": null,
   "id": "8daa4640-386d-49ad-b324-6017c8372a46",
   "metadata": {},
   "outputs": [],
   "source": [
    "grupo_ccaa_mes_turistas = receptor_2021.groupby(['mes', 'ccaa destino'])['turistas'].sum()\n",
    "\n",
    "# Mostrar los datos agrupados\n",
    "print(\"Datos agrupados por mes, CCAA y número de turistas:\")\n",
    "print(grupo_ccaa_mes_turistas)"
   ]
  },
  {
   "cell_type": "code",
   "execution_count": null,
   "id": "59dd8bd8-ec62-4937-9611-6e2fae3c87b1",
   "metadata": {},
   "outputs": [],
   "source": [
    "grupo_ccaa_mes_turistas_df = grupo_ccaa_mes_turistas.reset_index()\n",
    "\n",
    "# Ordena el DataFrame por mes y número de turistas de mayor a menor\n",
    "grupo_ccaa_mes_turistas_df = grupo_ccaa_mes_turistas_df.sort_values(by=['mes', 'turistas'], ascending=[True, False])\n",
    "grupo_ccaa_mes_turistas_df"
   ]
  },
  {
   "cell_type": "code",
   "execution_count": null,
   "id": "2e3abb2f-e2b1-457b-9d9b-d50942769068",
   "metadata": {},
   "outputs": [],
   "source": [
    "pd.set_option('display.max_rows', None)\n",
    "pd.set_option('display.max_columns', None)\n",
    "\n",
    "# Muestra el DataFrame con todos los datos\n",
    "print(\"Datos agrupados por mes, CCAA y número de turistas (ordenados):\")\n",
    "print(grupo_ccaa_mes_turistas_df)"
   ]
  },
  {
   "cell_type": "markdown",
   "id": "ef5a4680-f3c3-474f-8723-5e446d0c521a",
   "metadata": {},
   "source": [
    "### Según este Dataframe: vemos que en 2021 las tres comunidades que más turitas reciben: + Cataluña, andalucía y balerares/ - La Rioja,  Ceuta, Melilla"
   ]
  },
  {
   "cell_type": "code",
   "execution_count": null,
   "id": "4091d1a8-95dd-4b19-b914-bf2949c2ebab",
   "metadata": {},
   "outputs": [],
   "source": [
    "pais_ccaa_mes_turistas =  receptor_2021.groupby(['pais origen', 'ccaa destino', 'mes'])['turistas'].sum()\n",
    "\n",
    "# Convertir la serie en un DataFrame y resetear el índice para que los índices se conviertan en columnas\n",
    "pais_ccaa_mes_turistas = pais_ccaa_mes_turistas.reset_index()\n",
    "\n",
    "pais_ccaa_mes_turistas_sorted = pais_ccaa_mes_turistas.sort_values(by='turistas', ascending=False)\n",
    "\n",
    "print(pais_ccaa_mes_turistas_sorted)"
   ]
  },
  {
   "cell_type": "code",
   "execution_count": null,
   "id": "4d6e038b-8560-4c88-bf2c-f5cc44b53160",
   "metadata": {},
   "outputs": [],
   "source": [
    "receptor_total_nacional_2021 = pd.read_pickle('receptor_total_nacional_2021.pkl')\n",
    "receptor_total_nacional_2021"
   ]
  },
  {
   "cell_type": "code",
   "execution_count": null,
   "id": "80541264-e3be-43b3-aee7-9576a3bff388",
   "metadata": {},
   "outputs": [],
   "source": [
    "grupo_nacional_mes_turistas_df = receptor_total_nacional_2021.groupby(['mes', 'ccaa destino'])['turistas'].sum()\n",
    "grupo_nacional_mes_turistas_df"
   ]
  },
  {
   "cell_type": "code",
   "execution_count": null,
   "id": "e0c0940b-4d20-4cf1-be99-5fc00583f9ad",
   "metadata": {},
   "outputs": [],
   "source": [
    "grupo_nacional_mes_turistas_df_sorted = grupo_nacional_mes_turistas_df.sort_values(ascending=False)\n",
    "grupo_nacional_mes_turistas_df_sorted\n"
   ]
  },
  {
   "cell_type": "markdown",
   "id": "638b58c1-736a-470a-9ef8-d7f8277c2ed4",
   "metadata": {},
   "source": [
    "### En relacion al turismo nacional en 2021\n",
    "Como podemos ver el total del turismo receptor a nivel nacional en 2021, alcanzo sus datos máximos en agosto que supero los 6 millones de turistas seguidos dem mes de octubre y septiembre-\n",
    "Mientras que los meses que recibimos menos turistas fueron marzo, enero y febrero y aun así este ultimo menos superamos el millon 300 mil"
   ]
  },
  {
   "cell_type": "code",
   "execution_count": null,
   "id": "f1520425-82e3-4bdc-89fd-5c2f0a61472e",
   "metadata": {},
   "outputs": [],
   "source": [
    "pais_total_turistas = receptor_2021.groupby('pais origen')['turistas'].sum()\n",
    "\n",
    "# Convertir la serie resultante en un DataFrame y resetear el índice\n",
    "pais_total_turistas_df = pais_total_turistas.reset_index()\n",
    "\n",
    "# Ordenar los datos por la cantidad de turistas en orden descendente\n",
    "pais_total_turistas_df_sorted = pais_total_turistas_df.sort_values(by='turistas', ascending=False)\n",
    "\n",
    "print(pais_total_turistas_df_sorted)"
   ]
  },
  {
   "cell_type": "markdown",
   "id": "9f194023-0e43-4210-bda4-de306e0008ba",
   "metadata": {},
   "source": [
    "# Los 3 países que más nos visitaron fueron\n",
    "- Francia con casi 8 millones seguido de \n",
    "- Alemania con mas de 5 millones  y\n",
    "- Reino Unido con mas de 4 millones y medio"
   ]
  },
  {
   "cell_type": "markdown",
   "id": "541ef7c5-256a-4cc3-a26e-1400f500eaac",
   "metadata": {},
   "source": [
    "# 2022"
   ]
  },
  {
   "cell_type": "code",
   "execution_count": null,
   "id": "e8d424eb-84fb-4855-a272-08ebb7360492",
   "metadata": {},
   "outputs": [],
   "source": [
    "receptor_2022df = pd.read_pickle('receptor_2022.pkl')"
   ]
  },
  {
   "cell_type": "code",
   "execution_count": null,
   "id": "09bb452c-ec1f-485b-bc36-1901dce6b013",
   "metadata": {},
   "outputs": [],
   "source": [
    "receptor_2022df"
   ]
  },
  {
   "cell_type": "code",
   "execution_count": null,
   "id": "9a0146a1-b5b7-4af0-955a-090f344ba795",
   "metadata": {},
   "outputs": [],
   "source": [
    "ccaa_mes_turistas2022 = receptor_2022df.groupby(['mes', 'ccaa destino'])['turistas'].sum()\n",
    "\n",
    "# Mostrar los datos agrupados\n",
    "print(\"Datos agrupados por mes, CCAA y número de turistas:\")\n",
    "print(ccaa_mes_turistas2022)"
   ]
  },
  {
   "cell_type": "code",
   "execution_count": null,
   "id": "432b201d-f945-43b4-9237-6258f622f8be",
   "metadata": {},
   "outputs": [],
   "source": [
    "ccaa_mes_turistas2022 = ccaa_mes_turistas2022.reset_index()\n",
    "\n",
    "# Ordena el DataFrame por mes y número de turistas de mayor a menor\n",
    "ccaa_mes_turistas2022 = ccaa_mes_turistas2022.sort_values(by=['mes', 'turistas'], ascending=[True, False])\n",
    "ccaa_mes_turistas2022"
   ]
  },
  {
   "cell_type": "code",
   "execution_count": null,
   "id": "a729c041-6370-43d5-ae2d-023fa2a3686e",
   "metadata": {},
   "outputs": [],
   "source": [
    "pd.set_option('display.max_rows', None)\n",
    "pd.set_option('display.max_columns', None)\n",
    "\n",
    "# Muestra el DataFrame con todos los datos\n",
    "print(\"Datos agrupados por mes, CCAA y número de turistas (ordenados):\")\n",
    "print(ccaa_mes_turistas2022)"
   ]
  },
  {
   "cell_type": "markdown",
   "id": "567ca642-de6b-43e6-b2eb-01390e2b06bd",
   "metadata": {},
   "source": [
    "# Según este Dataframe: vemos que en 2022 las tres comunidades que más turitas reciben: + Cataluña, andalucía y Canarias y / - La Rioja,  Ceuta, Melilla"
   ]
  },
  {
   "cell_type": "code",
   "execution_count": null,
   "id": "f3b0ef62-eef4-4e49-82ce-769d419323d0",
   "metadata": {},
   "outputs": [],
   "source": [
    "pais_ccaa_mes_turistas =  receptor_2022df.groupby(['pais origen', 'ccaa destino', 'mes'])['turistas'].sum()\n",
    "\n",
    "# Convertir la serie en un DataFrame y resetear el índice para que los índices se conviertan en columnas\n",
    "pais_ccaa_mes_turistas = pais_ccaa_mes_turistas.reset_index()\n",
    "\n",
    "pais_ccaa_mes_turistas_sorted = pais_ccaa_mes_turistas.sort_values(by='turistas', ascending=False)\n",
    "\n",
    "print(pais_ccaa_mes_turistas_sorted)"
   ]
  },
  {
   "cell_type": "code",
   "execution_count": null,
   "id": "f6266bfb-4d85-4bdd-a434-a73c037a6929",
   "metadata": {},
   "outputs": [],
   "source": [
    "receptor_total_nacional_2022 = pd.read_pickle('receptor_total_nacional_2022.pkl')\n",
    "receptor_total_nacional_2022"
   ]
  },
  {
   "cell_type": "code",
   "execution_count": null,
   "id": "a046e3ed-fce9-4df0-909f-e4dd1921f412",
   "metadata": {},
   "outputs": [],
   "source": [
    "nacional_mes_turistas__2022_df = receptor_total_nacional_2022.groupby(['mes', 'ccaa destino'])['turistas'].sum()\n",
    "nacional_mes_turistas__2022_df"
   ]
  },
  {
   "cell_type": "code",
   "execution_count": null,
   "id": "06a0417a-aaf7-415a-8a4e-dfabe5b51df5",
   "metadata": {},
   "outputs": [],
   "source": [
    "nacional_mes_turistas_2022_df_sorted = nacional_mes_turistas__2022_df.sort_values(ascending=False)\n",
    "nacional_mes_turistas_2022_df_sorted"
   ]
  },
  {
   "cell_type": "markdown",
   "id": "fd2af1f5-9574-48af-b0ce-f27dc29fe495",
   "metadata": {},
   "source": [
    "# En relacion al turismo nacional en 2022\r\n",
    "Como podemos ver el total del turismo receptor a nivel nacional e 2022, alcanzo sus datos máximos en agosto que supero los96 millones de turistas seguidos dlm mes deJulioe y septiembre- Mientras que los meses que recibimos menos turistas fueron ener,y febrer y diciembreo y aun así este ultimo menos superamoslos 3 millonesl"
   ]
  },
  {
   "cell_type": "code",
   "execution_count": null,
   "id": "19b6bc78-3c05-43f3-9c94-b5f341a0579c",
   "metadata": {},
   "outputs": [],
   "source": [
    "pais_total_turistas2022 = receptor_total_nacional_2022.groupby('pais origen')['turistas'].sum()\n",
    "\n",
    "# Convertir la serie resultante en un DataFrame y resetear el índice\n",
    "pais_total_turistas_2022_df = pais_total_turistas2022.reset_index()\n",
    "\n",
    "# Ordenar los datos por la cantidad de turistas en orden descendente\n",
    "nacional_mes_turistas_2022_df_sorted = pais_total_turistas_2022_df.sort_values(by='turistas', ascending=False)\n",
    "\n",
    "print(nacional_mes_turistas_2022_df_sorted)"
   ]
  },
  {
   "cell_type": "markdown",
   "id": "8b34bb8b-79e6-4887-9676-68fbbfea1f55",
   "metadata": {
    "jp-MarkdownHeadingCollapsed": true
   },
   "source": [
    "# Los 3 países que más nos visitaron fueron\n",
    "- Reino Unido  con casi 15 millones seguido de\n",
    "- Francia con mas de 11 millones y\n",
    "- Alemania con mas de 10 millones y 700"
   ]
  },
  {
   "cell_type": "markdown",
   "id": "ff45dea3-e748-42b2-83d5-bc960029dffa",
   "metadata": {},
   "source": [
    "# 2023"
   ]
  },
  {
   "cell_type": "code",
   "execution_count": null,
   "id": "faeac1e3-0781-43b0-b414-49897f636e75",
   "metadata": {},
   "outputs": [],
   "source": [
    "receptor_2023df = pd.read_pickle('receptor_2023.pkl')\n",
    "receptor_2023df"
   ]
  },
  {
   "cell_type": "code",
   "execution_count": null,
   "id": "d4c5fc48-5587-4181-b55f-4d9d9b23032d",
   "metadata": {},
   "outputs": [],
   "source": [
    "ccaa_mes_turistas2023 = receptor_2023df.groupby(['mes', 'ccaa destino'])['turistas'].sum()\n",
    "\n",
    "# Mostrar los datos agrupados\n",
    "print(\"Datos agrupados por mes, CCAA y número de turistas:\")\n",
    "print(ccaa_mes_turistas2023)"
   ]
  },
  {
   "cell_type": "code",
   "execution_count": null,
   "id": "407af946-4bbe-4670-93a7-cabac9e7a499",
   "metadata": {},
   "outputs": [],
   "source": [
    "ccaa_mes_turistas2023 = ccaa_mes_turistas2023.reset_index()\n",
    "\n",
    "# Ordena el DataFrame por mes y número de turistas de mayor a menor\n",
    "ccaa_mes_turistas2023 = ccaa_mes_turistas2023.sort_values(by=['mes', 'turistas'], ascending=[True, False])\n",
    "ccaa_mes_turistas2023"
   ]
  },
  {
   "cell_type": "code",
   "execution_count": null,
   "id": "93a1353e-c724-4a70-88ef-6de757798f66",
   "metadata": {},
   "outputs": [],
   "source": [
    "pd.set_option('display.max_rows', None)\n",
    "pd.set_option('display.max_columns', None)\n",
    "\n",
    "# Muestra el DataFrame con todos los datos\n",
    "print(\"Datos agrupados por mes, CCAA y número de turistas (ordenados):\")\n",
    "print(ccaa_mes_turistas2023)"
   ]
  },
  {
   "cell_type": "markdown",
   "id": "f32954bf-81ec-4020-9b24-5f262111b61c",
   "metadata": {},
   "source": [
    "# Según este Dataframe: vemos que en 2023 las tres comunidades que más turitas reciben: + Cataluña, andalucía y balerares/ - La Rioja,  Ceuta, Melilla"
   ]
  },
  {
   "cell_type": "code",
   "execution_count": null,
   "id": "ac15f4d8-84b0-422e-969e-e3a6e13438ce",
   "metadata": {},
   "outputs": [],
   "source": [
    "pais_ccaa_mes_turistas2023 =  receptor_2023df.groupby(['pais origen', 'ccaa destino', 'mes'])['turistas'].sum()\n",
    "\n",
    "# Convertir la serie en un DataFrame y resetear el índice para que los índices se conviertan en columnas\n",
    "pais_ccaa_mes_turistas2023 = pais_ccaa_mes_turistas2023.reset_index()\n",
    "\n",
    "pais_ccaa_mes_turistas_2023_sorted = pais_ccaa_mes_turistas2023.sort_values(by='turistas', ascending=False)\n",
    "\n",
    "print(pais_ccaa_mes_turistas_2023_sorted)"
   ]
  },
  {
   "cell_type": "code",
   "execution_count": null,
   "id": "0bd277f1-96bc-45ab-be2f-a5013949abf9",
   "metadata": {},
   "outputs": [],
   "source": []
  },
  {
   "cell_type": "code",
   "execution_count": null,
   "id": "46b77632-5e89-48f8-b9c2-12fba77349c5",
   "metadata": {},
   "outputs": [],
   "source": [
    "receptor_nacional_2023_df = pd.read_pickle('receptor_total_nacional_2023.pkl')\n",
    "receptor_nacional_2023_df"
   ]
  },
  {
   "cell_type": "code",
   "execution_count": null,
   "id": "dada59f0-e8fe-4490-bdc8-08308ebf9d7f",
   "metadata": {},
   "outputs": [],
   "source": [
    "nacional_mes_turistas_2023_df = receptor_nacional_2023_df.groupby(['mes', 'ccaa destino'])['turistas'].sum()\n",
    "nacional_mes_turistas_2023_df"
   ]
  },
  {
   "cell_type": "code",
   "execution_count": null,
   "id": "dec3810e-a365-4a2a-a4b1-deb5ceb1a47f",
   "metadata": {},
   "outputs": [],
   "source": [
    "nacional_mes_turistas_2023_df_sorted = nacional_mes_turistas_2023_df.sort_values(ascending=False)\n",
    "nacional_mes_turistas_2023_df_sorted"
   ]
  },
  {
   "cell_type": "markdown",
   "id": "de86995f-d7c1-4231-b413-4bd2e1664ab9",
   "metadata": {},
   "source": [
    "# En relacion al turismo nacional en 2023\n",
    "Como podemos ver el total del turismo receptor a nivel nacional en 2023, alcanzo sus datos máximos en agosto que supero los 11 millones de turistas seguidos dlm mes de Julio y septiembre- Mientras que los meses que recibimos menos turistas fueron febrero,y enero y marzo y aun así este ultimo menos superamoslos 4 millonesl"
   ]
  },
  {
   "cell_type": "code",
   "execution_count": null,
   "id": "58da6571-fa7b-4bca-875e-13b76940bc0f",
   "metadata": {},
   "outputs": [],
   "source": [
    "pais_total_turistas2023 = receptor_nacional_2023_df.groupby('pais origen')['turistas'].sum()\n",
    "\n",
    "# Convertir la serie resultante en un DataFrame y resetear el índice\n",
    "pais_total_turistas_2023_df = pais_total_turistas2023.reset_index()\n",
    "\n",
    "# Ordenar los datos por la cantidad de turistas en orden descendente\n",
    "pais_total_turistas_2023_df_sorted = pais_total_turistas_2023_df.sort_values(by='turistas', ascending=False)\n",
    "\n",
    "print(pais_total_turistas_2023_df_sorted)"
   ]
  },
  {
   "cell_type": "markdown",
   "id": "df96f611-e693-48b3-80f1-c6404c3fa99e",
   "metadata": {},
   "source": [
    "# Los 3 países que más nos visitaron fueron\n",
    "- Reino Unido  con casi 17 millones seguido de\n",
    "- Francia con mas de 12 millones y\n",
    "- Alemania con mas de 11 millones y 900"
   ]
  }
 ],
 "metadata": {
  "kernelspec": {
   "display_name": "Python 3 (ipykernel)",
   "language": "python",
   "name": "python3"
  },
  "language_info": {
   "codemirror_mode": {
    "name": "ipython",
    "version": 3
   },
   "file_extension": ".py",
   "mimetype": "text/x-python",
   "name": "python",
   "nbconvert_exporter": "python",
   "pygments_lexer": "ipython3",
   "version": "3.11.7"
  }
 },
 "nbformat": 4,
 "nbformat_minor": 5
}
