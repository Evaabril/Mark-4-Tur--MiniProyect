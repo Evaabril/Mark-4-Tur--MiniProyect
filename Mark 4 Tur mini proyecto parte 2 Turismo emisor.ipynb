{
 "cells": [
  {
   "cell_type": "code",
   "execution_count": null,
   "id": "0cd8d71a-2c1d-4fc8-b5b6-f09cfec4c9d9",
   "metadata": {},
   "outputs": [],
   "source": [
    "import pandas as pd"
   ]
  },
  {
   "cell_type": "markdown",
   "id": "58a85775-c824-4148-b1e3-af8a08deee99",
   "metadata": {},
   "source": [
    "# Emisor"
   ]
  },
  {
   "cell_type": "markdown",
   "id": "461fa2ae-4b85-49e3-a49f-79a16f9de1d2",
   "metadata": {},
   "source": [
    "## 2021"
   ]
  },
  {
   "cell_type": "code",
   "execution_count": null,
   "id": "d9ca684c-c8b8-4f66-8e44-1915cdbf17f0",
   "metadata": {},
   "outputs": [],
   "source": [
    "emisor_df = pd.read_pickle('emisor.pkl')"
   ]
  },
  {
   "cell_type": "code",
   "execution_count": null,
   "id": "24a8023b-ee35-483e-8e91-f4c3e4bfaf29",
   "metadata": {},
   "outputs": [],
   "source": [
    "emisor_df "
   ]
  },
  {
   "cell_type": "code",
   "execution_count": null,
   "id": "b2bcdacf-0eab-429d-a646-f1330189950c",
   "metadata": {},
   "outputs": [],
   "source": [
    "emisor_2021 = pd.read_pickle('emisor_2021.pkl')"
   ]
  },
  {
   "cell_type": "code",
   "execution_count": null,
   "id": "11bb6461-6375-4cf2-bd01-653cc9120e75",
   "metadata": {},
   "outputs": [],
   "source": [
    "emisor_2021"
   ]
  },
  {
   "cell_type": "code",
   "execution_count": null,
   "id": "4a55dab6-9405-4599-b311-a2043c397950",
   "metadata": {},
   "outputs": [],
   "source": [
    "emisor_ccaa_mes_turistas2021 = emisor_2021.groupby(['mes', 'ccaa origen'])['turistas'].sum()\n",
    "\n",
    "# Mostrar los datos agrupados\n",
    "print(emisor_ccaa_mes_turistas2021)"
   ]
  },
  {
   "cell_type": "code",
   "execution_count": null,
   "id": "17fabc7d-ed6e-4a47-996d-eb17fd786f01",
   "metadata": {},
   "outputs": [],
   "source": [
    "emisor_ccaa_mes_turistas2021 = emisor_ccaa_mes_turistas2021.reset_index()\n",
    "\n",
    "# Ordena el DataFrame por mes y número de turistas de mayor a menor\n",
    "emisor_ccaa_mes_turistas2021 = emisor_ccaa_mes_turistas2021.sort_values(by=['mes', 'turistas'], ascending=[True, False])\n",
    "emisor_ccaa_mes_turistas2021"
   ]
  },
  {
   "cell_type": "code",
   "execution_count": null,
   "id": "9967ffeb-9f11-4150-87ab-6ebd93540d84",
   "metadata": {},
   "outputs": [],
   "source": [
    "pd.set_option('display.max_rows', None)\n",
    "pd.set_option('display.max_columns', None)\n",
    "\n",
    "# Muestra el DataFrame con todos los datos\n",
    "print(\"Datos agrupados por mes, CCAA y número de turistas (ordenados):\")\n",
    "print(emisor_ccaa_mes_turistas2021)"
   ]
  },
  {
   "cell_type": "markdown",
   "id": "4569438f-7eb6-46cb-be74-2d6dbb3d0a10",
   "metadata": {},
   "source": [
    "# Según este Dataframe: vemos que en 2021 las tres comunidades donde viajan mas turistas: + Cataluña, Andalucía y Madrid/ - Principado de Asturias, Cantabria, La Rioja "
   ]
  },
  {
   "cell_type": "code",
   "execution_count": null,
   "id": "360afdee-7b31-4e9e-ac98-1fd0453afc96",
   "metadata": {},
   "outputs": [],
   "source": [
    "emisor_nacional_2021 = pd.read_pickle('emisor_total_nacional_2021.pkl')\n",
    "emisor_nacional_2021"
   ]
  },
  {
   "cell_type": "code",
   "execution_count": null,
   "id": "0284f4bd-b831-455a-8ee5-fed90d78b234",
   "metadata": {},
   "outputs": [],
   "source": [
    "emisor_pais_ccaa_mes_turistas =  emisor_nacional_2021.groupby(['pais destino', 'ccaa origen', 'mes'])['turistas'].sum()\n",
    "\n",
    "# Convertir la serie en un DataFrame y resetear el índice para que los índices se conviertan en columnas\n",
    "emisor_pais_ccaa_mes_turistas = emisor_pais_ccaa_mes_turistas.reset_index()\n",
    "\n",
    "emisor_pais_ccaa_mes_turistas_sorted = emisor_pais_ccaa_mes_turistas.sort_values(by='turistas', ascending=False)\n",
    "\n",
    "print(emisor_pais_ccaa_mes_turistas_sorted)"
   ]
  },
  {
   "cell_type": "code",
   "execution_count": null,
   "id": "d853dcfc-d482-4fff-a559-1b20519cbf0d",
   "metadata": {},
   "outputs": [],
   "source": [
    "emisor_origen_nacional_2021 = emisor_pais_ccaa_mes_turistas_sorted.groupby(['mes', 'ccaa origen'])['turistas'].sum()\n",
    "emisor_origen_nacional_2021"
   ]
  },
  {
   "cell_type": "code",
   "execution_count": null,
   "id": "25877108-4145-4f94-a0ba-b5f1fd9a0288",
   "metadata": {},
   "outputs": [],
   "source": [
    "emisor_origen_nacional_2021 = emisor_total_nacional_2021.sort_values(ascending=False)\n",
    "emisor_origen_nacional_2021"
   ]
  },
  {
   "cell_type": "markdown",
   "id": "bd4b48de-2419-4606-ab10-0dda3d678706",
   "metadata": {},
   "source": [
    "## En relacion al turismo emisor en 2021¶\r\n",
    "Como podemos ver el total del turismo emisor a nivel nacional en 2021, alcanzo sus datos máximos en agosto que supero los 2 millones de turistas seguidos dlm mes de Diciembre y Octubre que salieron mas de 1 milon 700 mil en ambos casos- Mientras que los meses que recibimos menos turistas fueron febrero,y enero y marzo y aun así este ultimo menos superamoslos 4 millonesl"
   ]
  },
  {
   "cell_type": "code",
   "execution_count": null,
   "id": "0729b54f-efed-484c-a309-313f754e32c6",
   "metadata": {},
   "outputs": [],
   "source": [
    "emisor_pais_total_turistas = emisor_pais_ccaa_mes_turistas_sorted.groupby('pais destino')['turistas'].sum()\n",
    "\n",
    "# Convertir la serie resultante en un DataFrame y resetear el índice\n",
    "emisor_pais_total_turistas_df = emisor_pais_total_turistas.reset_index()\n",
    "\n",
    "# Ordenar los datos por la cantidad de turistas en orden descendente\n",
    "emisor_pais_total_turistas_sorted = emisor_pais_total_turistas_df.sort_values(by='turistas', ascending=False)\n",
    "\n",
    "print(emisor_pais_total_turistas_sorted)"
   ]
  },
  {
   "cell_type": "markdown",
   "id": "20a07d00-6eb3-411a-a1dd-b47df4a882aa",
   "metadata": {},
   "source": [
    "# Los 3 países que más visitamos en 2021 fueron\n",
    "- Francia con mas de 4 millones y medio de turistas\n",
    "- Portugal con mas de 3 millones 700 mil turisas\n",
    "- Italia comas de 1 milllon de turistas"
   ]
  },
  {
   "cell_type": "markdown",
   "id": "dd7c2ce3-6a53-4643-a541-b76df3fe7f47",
   "metadata": {},
   "source": [
    "# 2022"
   ]
  },
  {
   "cell_type": "code",
   "execution_count": null,
   "id": "e6c53674-b22d-4e11-9421-2788e6a99e9c",
   "metadata": {},
   "outputs": [],
   "source": [
    "emisor_2022 = pd.read_pickle('emisor_2022.pkl')"
   ]
  },
  {
   "cell_type": "code",
   "execution_count": null,
   "id": "b770afcc-e94e-4bed-95b6-f62535c24913",
   "metadata": {},
   "outputs": [],
   "source": [
    "emisor_2022"
   ]
  },
  {
   "cell_type": "code",
   "execution_count": null,
   "id": "2bad0a45-9c7c-438e-899e-742ea56545af",
   "metadata": {},
   "outputs": [],
   "source": [
    "emisor2022_ccaa_mes_turistas = emisor_2022.groupby(['mes', 'ccaa origen'])['turistas'].sum()\n",
    "\n",
    "# Mostrar los datos agrupados\n",
    "print(\"Datos agrupados por mes, CCAA y número de turistas:\")\n",
    "print(emisor2022_ccaa_mes_turistas)"
   ]
  },
  {
   "cell_type": "code",
   "execution_count": null,
   "id": "13f49f12-270b-4bbf-9fd7-14fa6c1cd3f4",
   "metadata": {},
   "outputs": [],
   "source": [
    "emisor_ccaa_mes_turistas2022 = emisor2022_ccaa_mes_turistas.reset_index()\n",
    "\n",
    "# Ordena el DataFrame por mes y número de turistas de mayor a menor\n",
    "emisor_ccaa_mes_turistas2022 = emisor_ccaa_mes_turistas2022.sort_values(by=['mes', 'turistas'], ascending=[True, False])\n",
    "# emisor_ccaa_mes_turistas2022"
   ]
  },
  {
   "cell_type": "code",
   "execution_count": null,
   "id": "b9508581-439f-493c-bae1-6b5fe8f2a465",
   "metadata": {},
   "outputs": [],
   "source": [
    "pd.set_option('display.max_rows', None)\n",
    "pd.set_option('display.max_columns', None)\n",
    "\n",
    "# Muestra el DataFrame con todos los datos\n",
    "print(\"Datos agrupados por mes, CCAA y número de turistas (ordenados):\")\n",
    "print(emisor_ccaa_mes_turistas2022)"
   ]
  },
  {
   "cell_type": "markdown",
   "id": "b7804a3f-d34c-4985-a3bd-3e66709c199e",
   "metadata": {},
   "source": [
    "# Según este Dataframe: vemos que en 2022 las tres comunidades donde salen mas turistas: + Cataluña, Andalucía y Madrid/ - Principado de Asturias, Cantabria, La Rioja"
   ]
  },
  {
   "cell_type": "code",
   "execution_count": null,
   "id": "073f68e3-6d19-4d6e-9531-00adcc4d80df",
   "metadata": {},
   "outputs": [],
   "source": [
    "emisor_nacional_2022_df= pd.read_pickle('emisor_nacional_2022.pkl')"
   ]
  },
  {
   "cell_type": "code",
   "execution_count": null,
   "id": "5f2d449e-66bb-4c73-bb4a-34b58a3723df",
   "metadata": {},
   "outputs": [],
   "source": [
    "emisor_pais_ccaa_mes_turistas2022_nacional =  emisor_nacional_2022_df.groupby(['pais destino', 'ccaa origen', 'mes'])['turistas'].sum()\n",
    "\n",
    "# Convertir la serie en un DataFrame y resetear el índice para que los índices se conviertan en columnas\n",
    "emisor_nacional_pais_ccaa_mes_turistas22 = emisor_pais_ccaa_mes_turistas2022_nacional.reset_index()\n",
    "\n",
    "emisor_nacional_pais_ccaa_mes_turistas22_sorted = emisor_nacional_pais_ccaa_mes_turistas22.sort_values(by='turistas', ascending=False)\n",
    "\n",
    "print(emisor_nacional_pais_ccaa_mes_turistas22_sorted)"
   ]
  },
  {
   "cell_type": "code",
   "execution_count": null,
   "id": "a6ae2520-3858-4bdc-adea-4f839df70533",
   "metadata": {},
   "outputs": [],
   "source": [
    "emisor_nacional_2022 = emisor_nacional_2022_df.groupby(['mes', 'ccaa origen'])['turistas'].sum()\n",
    "emisor_nacional_2022"
   ]
  },
  {
   "cell_type": "code",
   "execution_count": null,
   "id": "e583ce63-7160-4d1a-93fd-3125f19f7486",
   "metadata": {},
   "outputs": [],
   "source": [
    "emisor_nacional_2022_sort = emisor_nacional_2022.sort_values(ascending=False)\n",
    "emisor_nacional_2022_sort"
   ]
  },
  {
   "cell_type": "code",
   "execution_count": null,
   "id": "437ed045-7f9a-4e1e-9107-0290b30c5822",
   "metadata": {},
   "outputs": [],
   "source": [
    "# En relacion al turismo nacional en 2022\n",
    "Como podemos ver el total del turismo emisor a nivel nacional en 2022, alcanzo sus datos máximos en agosto que supero los 2 millones 800 mil de turistas seguidos dlm mes de Julio y Diciembre que con casi 2 millones y medio\n",
    "Mientras que los meses que recibimos menos turistas fueron febrero,y enero y marzo que los datos registrados están entre 1 millon 100mil y 1 y medio"
   ]
  },
  {
   "cell_type": "code",
   "execution_count": null,
   "id": "b8392e24-6184-4770-a4cc-ec9679a70789",
   "metadata": {},
   "outputs": [],
   "source": [
    "emisor_pais_ccaa_turistas2022 =  emisor_nacional_2022_df.groupby(['pais destino'])['turistas'].sum()\n",
    "\n",
    "# Convertir la serie en un DataFrame y resetear el índice para que los índices se conviertan en columnas\n",
    "emisor_pais_ccaa_turistas2022 = emisor_pais_ccaa_turistas2022.reset_index()\n",
    "\n",
    "emisor_pais_ccaa_turistas2022_sorted = emisor_pais_ccaa_turistas2022.sort_values(by='turistas', ascending=False)\n",
    "\n",
    "print(emisor_pais_ccaa_turistas2022_sorted)"
   ]
  },
  {
   "cell_type": "code",
   "execution_count": null,
   "id": "6091da5d-546b-41ef-9016-aeaa07ec64db",
   "metadata": {},
   "outputs": [],
   "source": [
    "# Los 3 países que más visitamos en 2022 fueron\n",
    "- Francia con mas de 6 millones y medio seguido de\n",
    "- Portugal con casi 5 millones y medio\n",
    "- Italia con mas de 2 millones"
   ]
  },
  {
   "cell_type": "code",
   "execution_count": null,
   "id": "9d6d0499-5a3e-49ff-8d6b-71074f7bc5af",
   "metadata": {},
   "outputs": [],
   "source": [
    "# 2023"
   ]
  },
  {
   "cell_type": "code",
   "execution_count": null,
   "id": "43dc50d7-1419-49ed-aaa7-9e6ddf7fed69",
   "metadata": {},
   "outputs": [],
   "source": [
    "emisor_2023 = pd.read_pickle('emisor_2023.pkl')\n",
    "emisor_2023"
   ]
  },
  {
   "cell_type": "code",
   "execution_count": null,
   "id": "6e713001-c21d-468e-8368-ba9d2e398f43",
   "metadata": {},
   "outputs": [],
   "source": [
    "emisor_ccaa_mes_turistas2023 = emisor_2023.groupby(['mes', 'ccaa origen'])['turistas'].sum()\n",
    "\n",
    "# Mostrar los datos agrupados\n",
    "print(\"Datos agrupados por mes, CCAA y número de turistas:\")\n",
    "print(emisor_ccaa_mes_turistas2023)"
   ]
  },
  {
   "cell_type": "code",
   "execution_count": null,
   "id": "d4e3e9c9-18ee-4c2e-8240-07a8a41f7fd0",
   "metadata": {},
   "outputs": [],
   "source": [
    "emisor_ccaa_mes_turistas2023 = emisor_ccaa_mes_turistas2023.reset_index()\n",
    "\n",
    "# Ordena el DataFrame por mes y número de turistas de mayor a menor\n",
    "emisor_ccaa_mes_turistas2023 = emisor_ccaa_mes_turistas2023.sort_values(by=['mes', 'turistas'], ascending=[True, False])\n",
    "emisor_ccaa_mes_turistas2023"
   ]
  },
  {
   "cell_type": "code",
   "execution_count": null,
   "id": "bd5adec0-e5a5-4c33-8b35-a54003aac334",
   "metadata": {},
   "outputs": [],
   "source": [
    "pd.set_option('display.max_rows', None)\n",
    "pd.set_option('display.max_columns', None)\n",
    "\n",
    "# Muestra el DataFrame con todos los datos\n",
    "print(\"Datos agrupados por mes, CCAA y número de turistas (ordenados):\")\n",
    "print(emisor_ccaa_mes_turistas2023)"
   ]
  },
  {
   "cell_type": "code",
   "execution_count": null,
   "id": "72d4ad1d-ddb8-4b23-bc3c-75d9343d3ad1",
   "metadata": {},
   "outputs": [],
   "source": [
    "# Según este Dataframe: vemos que en 2022 las tres comunidades donde salen mas turistas: + Cataluña, Andalucía y Madrid/ - Principado de Asturias, Cantabria, La Rioja"
   ]
  },
  {
   "cell_type": "code",
   "execution_count": null,
   "id": "6e6a03a4-6b20-45f2-a1a8-2e380ee544d4",
   "metadata": {},
   "outputs": [],
   "source": [
    "emisor_total_nacional_2023= pd.read_pickle('emisor_total_nacional_2023.pkl')\n",
    "emisor_total_nacional_2023"
   ]
  },
  {
   "cell_type": "code",
   "execution_count": null,
   "id": "c09d2d5c-8de4-4000-928d-d1875d52af65",
   "metadata": {},
   "outputs": [],
   "source": [
    "emisor_pais_ccaa_nacional_turistas =  emisor_total_nacional_2023.groupby(['pais destino', 'ccaa origen', 'mes'])['turistas'].sum()\n",
    "\n",
    "# Convertir la serie en un DataFrame y resetear el índice para que los índices se conviertan en columnas\n",
    "emisor_pais_ccaa_nacional_turistas = emisor_pais_ccaa_nacional_turistas.reset_index()\n",
    "\n",
    "emisor_pais_ccaa_nacional_turistas_sorted = emisor_pais_ccaa_nacional_turistas.sort_values(by='turistas', ascending=False)\n",
    "\n",
    "print(emisor_pais_ccaa_nacional_turistas_sorted)"
   ]
  },
  {
   "cell_type": "code",
   "execution_count": null,
   "id": "7c562bed-0ead-4f55-bff2-750a51443572",
   "metadata": {},
   "outputs": [],
   "source": [
    "emisor_pais_ccaa_nacional_turistas_sorted = emisor_pais_ccaa_nacional_turistas_sorted.groupby(['mes', 'ccaa origen'])['turistas'].sum()\n",
    "emisor_pais_ccaa_nacional_turistas_sorted"
   ]
  },
  {
   "cell_type": "code",
   "execution_count": null,
   "id": "cc6cb4c5-0bc3-4c81-b43d-ba8912620ac7",
   "metadata": {},
   "outputs": [],
   "source": [
    "emisor_nacional_sorted = emisor_pais_ccaa_nacional_turistas_sorted.sort_values(ascending=False)\n",
    "emisor_nacional_sorted"
   ]
  },
  {
   "cell_type": "markdown",
   "id": "a3eb8985-4673-4bca-8140-609847b1fa30",
   "metadata": {},
   "source": [
    "# En relacion al turismo nacional en 2023 \n",
    "Como podemos ver el total del turismo receptor a nivel nacional en 2023, alcanzo sus datos máximos en agosto casi llegamos a los 3 millones de turistas seguidos dlm mes de Diciembre y Julio\n",
    "Mientras que los meses que recibimos menos turistas fueron febrero,y enero y noviembre con datos registrados entre el 1 millon 700 y los 2 millones"
   ]
  },
  {
   "cell_type": "code",
   "execution_count": null,
   "id": "064626ff-c49d-4bfc-b88e-d31beb1ded34",
   "metadata": {},
   "outputs": [],
   "source": [
    "pais_total_turistas2023 = emisor_total_nacional_2023.groupby('pais destino')['turistas'].sum()\n",
    "\n",
    "# Convertir la serie resultante en un DataFrame y resetear el índice\n",
    "pais_total_turistas_df = pais_total_turistas2023.reset_index()\n",
    "\n",
    "# Ordenar los datos por la cantidad de turistas en orden descendente\n",
    "pais_total_turistas_df_sorted = pais_total_turistas_df.sort_values(by='turistas', ascending=False)\n",
    "\n",
    "print(pais_total_turistas_df_sorted)"
   ]
  },
  {
   "cell_type": "code",
   "execution_count": null,
   "id": "2dd7d8d3-0cff-432c-bf65-d0589461e272",
   "metadata": {},
   "outputs": [],
   "source": [
    "# Los 3 países que más visitamos en 2023 fueron\n",
    "Francia con mas de76 millone\n",
    "Portugal con cas6 5 millon\n",
    "Italia con mas de 2 millo y mediones"
   ]
  },
  {
   "cell_type": "markdown",
   "id": "78b3237e-3a64-403b-b89f-45c77e47a837",
   "metadata": {},
   "source": [
    "# Presentación Mark 4 Tur: Miniproyect"
   ]
  },
  {
   "cell_type": "code",
   "execution_count": null,
   "id": "75e87abe-22d7-419c-85b4-7195273dce96",
   "metadata": {},
   "outputs": [],
   "source": [
    "https://prezi.com/view/c3ODI8UpcwAw6Xgk73QM/"
   ]
  },
  {
   "cell_type": "code",
   "execution_count": null,
   "id": "c7618297-9dbd-410c-b63b-376d2b69ea61",
   "metadata": {},
   "outputs": [],
   "source": []
  },
  {
   "cell_type": "code",
   "execution_count": null,
   "id": "ca1b6da8-5b58-4332-9186-0677f276bf32",
   "metadata": {},
   "outputs": [],
   "source": []
  },
  {
   "cell_type": "code",
   "execution_count": null,
   "id": "61cee022-18dc-466f-8904-b63c89acd5f4",
   "metadata": {},
   "outputs": [],
   "source": []
  }
 ],
 "metadata": {
  "kernelspec": {
   "display_name": "Python 3 (ipykernel)",
   "language": "python",
   "name": "python3"
  },
  "language_info": {
   "codemirror_mode": {
    "name": "ipython",
    "version": 3
   },
   "file_extension": ".py",
   "mimetype": "text/x-python",
   "name": "python",
   "nbconvert_exporter": "python",
   "pygments_lexer": "ipython3",
   "version": "3.11.7"
  }
 },
 "nbformat": 4,
 "nbformat_minor": 5
}
